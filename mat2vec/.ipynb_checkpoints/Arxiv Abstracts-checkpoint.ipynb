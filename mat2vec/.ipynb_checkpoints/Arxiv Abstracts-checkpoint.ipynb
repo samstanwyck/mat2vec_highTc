{
 "cells": [
  {
   "cell_type": "code",
   "execution_count": null,
   "metadata": {},
   "outputs": [],
   "source": [
    "import urllib.request\n",
    "import xmltodict\n",
    "\n",
    "url = 'http://export.arxiv.org/api/query?search_query=all:superconductor&start=0&max_results=10000'\n",
    "abstracts = []\n",
    "with urllib.request.urlopen(url) as url:\n",
    "    doc = xmltodict.parse(url.read())   "
   ]
  },
  {
   "cell_type": "code",
   "execution_count": 31,
   "metadata": {},
   "outputs": [],
   "source": [
    "for i in range(len(doc['feed']['entry'])):\n",
    "        abstract = doc['feed']['entry'][i]['summary']\n",
    "        abstract = abstract.replace(\"\\n\", \" \")\n",
    "        abstracts.append(abstract)"
   ]
  },
  {
   "cell_type": "code",
   "execution_count": 32,
   "metadata": {},
   "outputs": [],
   "source": [
    "with open('./training/data/test.txt', 'w') as outfile:\n",
    "    for abstract in abstracts:\n",
    "        outfile.write('%s\\n' % abstract)"
   ]
  },
  {
   "cell_type": "code",
   "execution_count": null,
   "metadata": {},
   "outputs": [],
   "source": []
  }
 ],
 "metadata": {
  "kernelspec": {
   "display_name": "Python 3",
   "language": "python",
   "name": "python3"
  },
  "language_info": {
   "codemirror_mode": {
    "name": "ipython",
    "version": 3
   },
   "file_extension": ".py",
   "mimetype": "text/x-python",
   "name": "python",
   "nbconvert_exporter": "python",
   "pygments_lexer": "ipython3",
   "version": "3.6.10"
  }
 },
 "nbformat": 4,
 "nbformat_minor": 4
}

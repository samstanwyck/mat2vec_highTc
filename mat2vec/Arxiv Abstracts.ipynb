{
 "cells": [
  {
   "cell_type": "code",
   "execution_count": null,
   "metadata": {},
   "outputs": [],
   "source": [
    "import urllib.request\n",
    "import xmltodict\n",
    "from tqdm import tqdm\n",
    "\n",
    "abstracts = []\n",
    "for i in tqdm(range(100)):\n",
    "    url = 'http://export.arxiv.org/api/query?search_query=all:superconductor&start={}&max_results={}'.format(100*i, 100)\n",
    "    with urllib.request.urlopen(url) as url:\n",
    "        doc = xmltodict.parse(url.read())\n",
    "        for i in range(len(doc['feed']['entry'])):\n",
    "            abstract = doc['feed']['entry'][i]['summary']\n",
    "            abstract = abstract.replace(\"\\n\", \" \")\n",
    "            abstracts.append(abstract)"
   ]
  },
  {
   "cell_type": "code",
   "execution_count": null,
   "metadata": {},
   "outputs": [],
   "source": [
    "len(abstracts)"
   ]
  },
  {
   "cell_type": "code",
   "execution_count": null,
   "metadata": {},
   "outputs": [],
   "source": [
    "with open('./training/data/test.txt', 'w') as outfile:\n",
    "    for abstract in abstracts:\n",
    "        outfile.write('%s\\n' % abstract)"
   ]
  },
  {
   "cell_type": "code",
   "execution_count": null,
   "metadata": {},
   "outputs": [],
   "source": []
  }
 ],
 "metadata": {
  "kernelspec": {
   "display_name": "Python 3",
   "language": "python",
   "name": "python3"
  }
 },
 "nbformat": 4,
 "nbformat_minor": 4
}

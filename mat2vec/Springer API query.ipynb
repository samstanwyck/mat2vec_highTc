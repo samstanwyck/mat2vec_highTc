{
 "cells": [
  {
   "cell_type": "code",
   "execution_count": 13,
   "metadata": {},
   "outputs": [],
   "source": [
    "import requests\n",
    "import json\n",
    "from tqdm import tqdm"
   ]
  },
  {
   "cell_type": "code",
   "execution_count": 11,
   "metadata": {},
   "outputs": [],
   "source": [
    "def build_corpus(query_constraints, num_abstracts, outfile):\n",
    "    print(\"Querying Springer API for {0} abstracts matching constraints: {1}\".format(num_abstracts, query_constraints))\n",
    "    for i in tqdm(range(num_abstracts//100)):\n",
    "        s = 100*i+1\n",
    "        response_json = requests.get('http://api.springernature.com/meta/v2/json?q={0}&s={1}&p=100&api_key={2}'.format(query_constraints, s, api_key))\n",
    "        response = response_json.json()\n",
    "    \n",
    "    \n",
    "        article_list = response['records']\n",
    "        with open('training/data/{}'.format(outfile),'a') as filehandle:\n",
    "            for j, article in enumerate(article_list):\n",
    "                filehandle.write('{}\\n'.format(article['abstract']))"
   ]
  },
  {
   "cell_type": "code",
   "execution_count": 12,
   "metadata": {},
   "outputs": [],
   "source": [
    "query_constraints = 'type:Journal subject:\"Condensed Matter Physics\"'\n",
    "api_key = 'd4b2580fdf883e9d9e19b35d4c139008'"
   ]
  },
  {
   "cell_type": "code",
   "execution_count": null,
   "metadata": {},
   "outputs": [],
   "source": [
    "build_corpus(query_constraints, 100000, 'springer_corpus.txt')"
   ]
  },
  {
   "cell_type": "code",
   "execution_count": null,
   "metadata": {},
   "outputs": [],
   "source": [
    "query_constraints = 'type:Journal subject:\"Materials Science\"'"
   ]
  },
  {
   "cell_type": "code",
   "execution_count": null,
   "metadata": {},
   "outputs": [],
   "source": [
    "build_corpus(query_constraints, 100000, 'springer_corpus.txt')"
   ]
  },
  {
   "cell_type": "code",
   "execution_count": null,
   "metadata": {},
   "outputs": [],
   "source": [
    "query_constraints = 'type:Journal subject:\"Physical Chemistry\"'"
   ]
  },
  {
   "cell_type": "code",
   "execution_count": null,
   "metadata": {},
   "outputs": [],
   "source": [
    "build_corpus(query_constraints, 100000, 'springer_corpus.txt')"
   ]
  }
 ],
 "metadata": {
  "kernelspec": {
   "display_name": "Python 3",
   "language": "python",
   "name": "python3"
  },
  "language_info": {
   "codemirror_mode": {
    "name": "ipython",
    "version": 3
   },
   "file_extension": ".py",
   "mimetype": "text/x-python",
   "name": "python",
   "nbconvert_exporter": "python",
   "pygments_lexer": "ipython3",
   "version": "3.6.10"
  }
 },
 "nbformat": 4,
 "nbformat_minor": 4
}
